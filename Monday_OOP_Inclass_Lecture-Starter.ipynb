{
 "cells": [
  {
   "cell_type": "markdown",
   "metadata": {},
   "source": [
    "# Object-Oriented-Programming (OOP)"
   ]
  },
  {
   "cell_type": "markdown",
   "metadata": {},
   "source": [
    "## Tasks Today:\n",
    "\n",
    "   \n",
    "\n",
    "1) <b>Creating a Class (Initializing/Declaring)</b> <br>\n",
    "2) <b>Using a Class (Instantiating)</b> <br>\n",
    " &nbsp;&nbsp;&nbsp;&nbsp; a) Creating One Instance <br>\n",
    " &nbsp;&nbsp;&nbsp;&nbsp; b) Creating Multiple Instances <br>\n",
    " &nbsp;&nbsp;&nbsp;&nbsp; c) In-Class Exercise #1 - Create a Class 'Car' and instantiate three different makes of cars <br>\n",
    "3) <b>The \\__init\\__() Method</b> <br>\n",
    " &nbsp;&nbsp;&nbsp;&nbsp; a) The 'self' Attribute <br>\n",
    "4) <b>Class Attributes</b> <br>\n",
    " &nbsp;&nbsp;&nbsp;&nbsp; a) Initializing Attributes <br>\n",
    " &nbsp;&nbsp;&nbsp;&nbsp; b) Setting an Attribute Outside of the \\__init\\__() Method <br>\n",
    " &nbsp;&nbsp;&nbsp;&nbsp; c) Setting Defaults for Attributes <br>\n",
    " &nbsp;&nbsp;&nbsp;&nbsp; d) Accessing Class Attributes <br>\n",
    " &nbsp;&nbsp;&nbsp;&nbsp; e) Changing Class Attributes <br>\n",
    " &nbsp;&nbsp;&nbsp;&nbsp; f) In-Class Exercise #2 - Update your 'Car' class with \\__init\\__() method and class attributes<br>\n",
    "5) <b>Class Methods</b> <br>\n",
    " &nbsp;&nbsp;&nbsp;&nbsp; a) Creating <br>\n",
    " &nbsp;&nbsp;&nbsp;&nbsp; b) Calling <br>\n",
    " &nbsp;&nbsp;&nbsp;&nbsp; c) Modifying an Attribute's Value Through a Method <br>\n",
    " &nbsp;&nbsp;&nbsp;&nbsp; d) Incrementing an Attribute's Value Through a Method <br>\n",
    " &nbsp;&nbsp;&nbsp;&nbsp; e) In-Class Exercise #3 - Update Car class with new methods <br>\n",
    "6) <b>Classes as Attributes</b> <br>\n",
    "8) <b>Exercises</b> <br>\n",
    " &nbsp;&nbsp;&nbsp;&nbsp; a) Exercise #1 - Turn the shopping cart program from yesterday into an object-oriented program <br>\n",
    "  &nbsp;&nbsp;&nbsp;&nbsp; a) Exercise #2 - Create an Animal class with Eat, Sleep, and Play methods <br>"
   ]
  },
  {
   "cell_type": "code",
   "execution_count": 52,
   "metadata": {},
   "outputs": [
    {
     "name": "stdout",
     "output_type": "stream",
     "text": [
      "[1, 2, 3, 4, 44]\n"
     ]
    }
   ],
   "source": [
    "list1 = [1, 2, 3, 4]\n",
    "list2 = [5, 6, 7, 8]\n",
    "list1.append(44)\n",
    "print(list1)"
   ]
  },
  {
   "cell_type": "markdown",
   "metadata": {},
   "source": [
    "#### Object-Oriented Programming"
   ]
  },
  {
   "cell_type": "markdown",
   "metadata": {},
   "source": [
    "Object-Oriented Programming (OOP) allows us to create programs so that that properties and behaviors are bundled into **objects**. OOP models real-world entities as software objects that have some data associated with them and can perform certain functions."
   ]
  },
  {
   "cell_type": "markdown",
   "metadata": {},
   "source": [
    "## Creating a Class (Initializing/Declaring)\n",
    "<p>When creating a class, function, or even a variable you are initializing that object. Initializing and Declaring occur at the same time in Python, whereas in lower level languages you have to declare an object before initializing it. This is the first step in the process of using a class.</p>"
   ]
  },
  {
   "cell_type": "code",
   "execution_count": 53,
   "metadata": {},
   "outputs": [],
   "source": [
    "# snake_case \n",
    "# camelCase\n",
    "# PascalCase"
   ]
  },
  {
   "cell_type": "code",
   "execution_count": 54,
   "metadata": {},
   "outputs": [
    {
     "name": "stdout",
     "output_type": "stream",
     "text": [
      "Help on class Student in module __main__:\n",
      "\n",
      "class Student(builtins.object)\n",
      " |  Data descriptors defined here:\n",
      " |\n",
      " |  __dict__\n",
      " |      dictionary for instance variables\n",
      " |\n",
      " |  __weakref__\n",
      " |      list of weak references to the object\n",
      "\n"
     ]
    }
   ],
   "source": [
    "# Syntax: class ClassName():   OR class ClassName:\n",
    "# * always capitalize our class names!\n",
    "\n",
    "class Student():\n",
    "    pass\n",
    "\n",
    "help(Student)"
   ]
  },
  {
   "cell_type": "code",
   "execution_count": 55,
   "metadata": {},
   "outputs": [
    {
     "name": "stdout",
     "output_type": "stream",
     "text": [
      "<class '__main__.Student'>\n"
     ]
    }
   ],
   "source": [
    "print(Student)"
   ]
  },
  {
   "cell_type": "code",
   "execution_count": 56,
   "metadata": {},
   "outputs": [
    {
     "name": "stdout",
     "output_type": "stream",
     "text": [
      "Help on class Teacher in module __main__:\n",
      "\n",
      "class Teacher(builtins.object)\n",
      " |  Data descriptors defined here:\n",
      " |\n",
      " |  __dict__\n",
      " |      dictionary for instance variables\n",
      " |\n",
      " |  __weakref__\n",
      " |      list of weak references to the object\n",
      "\n"
     ]
    }
   ],
   "source": [
    "class Teacher:\n",
    "    pass\n",
    "help(Teacher)"
   ]
  },
  {
   "cell_type": "code",
   "execution_count": 57,
   "metadata": {},
   "outputs": [
    {
     "name": "stdout",
     "output_type": "stream",
     "text": [
      "Leo\n",
      "Leo is walking\n",
      "Kuma\n",
      "Kuma is walking\n"
     ]
    }
   ],
   "source": [
    "class Animal:\n",
    "    def __init__(self, name):\n",
    "        self.name = name\n",
    "\n",
    "    def walk(self):\n",
    "        print(f\"{self.name} is walking\")\n",
    "\n",
    "class Lion(Animal):\n",
    "    pass\n",
    "\n",
    "class Bear(Animal):\n",
    "    pass\n",
    "\n",
    "leo = Lion('Leo')\n",
    "print(leo.name)\n",
    "leo.walk()\n",
    "\n",
    "\n",
    "kuma = Bear('Kuma')\n",
    "print(kuma.name)\n",
    "kuma.walk()"
   ]
  },
  {
   "cell_type": "markdown",
   "metadata": {},
   "source": [
    "## Using a Class (Instantiating)\n",
    "<p>The process of creating a class is called <i>Instantiating</i>. Each time you create a variable of that type of class, it is referred to as an <i>Instance</i> of that class. This is the second step in the process of using a class.</p>"
   ]
  },
  {
   "cell_type": "code",
   "execution_count": 58,
   "metadata": {},
   "outputs": [
    {
     "name": "stdout",
     "output_type": "stream",
     "text": [
      "Help on class list in module builtins:\n",
      "\n",
      "class list(object)\n",
      " |  list(iterable=(), /)\n",
      " |\n",
      " |  Built-in mutable sequence.\n",
      " |\n",
      " |  If no argument is given, the constructor creates a new empty list.\n",
      " |  The argument must be an iterable if specified.\n",
      " |\n",
      " |  Methods defined here:\n",
      " |\n",
      " |  __add__(self, value, /)\n",
      " |      Return self+value.\n",
      " |\n",
      " |  __contains__(self, key, /)\n",
      " |      Return bool(key in self).\n",
      " |\n",
      " |  __delitem__(self, key, /)\n",
      " |      Delete self[key].\n",
      " |\n",
      " |  __eq__(self, value, /)\n",
      " |      Return self==value.\n",
      " |\n",
      " |  __ge__(self, value, /)\n",
      " |      Return self>=value.\n",
      " |\n",
      " |  __getattribute__(self, name, /)\n",
      " |      Return getattr(self, name).\n",
      " |\n",
      " |  __getitem__(self, index, /)\n",
      " |      Return self[index].\n",
      " |\n",
      " |  __gt__(self, value, /)\n",
      " |      Return self>value.\n",
      " |\n",
      " |  __iadd__(self, value, /)\n",
      " |      Implement self+=value.\n",
      " |\n",
      " |  __imul__(self, value, /)\n",
      " |      Implement self*=value.\n",
      " |\n",
      " |  __init__(self, /, *args, **kwargs)\n",
      " |      Initialize self.  See help(type(self)) for accurate signature.\n",
      " |\n",
      " |  __iter__(self, /)\n",
      " |      Implement iter(self).\n",
      " |\n",
      " |  __le__(self, value, /)\n",
      " |      Return self<=value.\n",
      " |\n",
      " |  __len__(self, /)\n",
      " |      Return len(self).\n",
      " |\n",
      " |  __lt__(self, value, /)\n",
      " |      Return self<value.\n",
      " |\n",
      " |  __mul__(self, value, /)\n",
      " |      Return self*value.\n",
      " |\n",
      " |  __ne__(self, value, /)\n",
      " |      Return self!=value.\n",
      " |\n",
      " |  __repr__(self, /)\n",
      " |      Return repr(self).\n",
      " |\n",
      " |  __reversed__(self, /)\n",
      " |      Return a reverse iterator over the list.\n",
      " |\n",
      " |  __rmul__(self, value, /)\n",
      " |      Return value*self.\n",
      " |\n",
      " |  __setitem__(self, key, value, /)\n",
      " |      Set self[key] to value.\n",
      " |\n",
      " |  __sizeof__(self, /)\n",
      " |      Return the size of the list in memory, in bytes.\n",
      " |\n",
      " |  append(self, object, /)\n",
      " |      Append object to the end of the list.\n",
      " |\n",
      " |  clear(self, /)\n",
      " |      Remove all items from list.\n",
      " |\n",
      " |  copy(self, /)\n",
      " |      Return a shallow copy of the list.\n",
      " |\n",
      " |  count(self, value, /)\n",
      " |      Return number of occurrences of value.\n",
      " |\n",
      " |  extend(self, iterable, /)\n",
      " |      Extend list by appending elements from the iterable.\n",
      " |\n",
      " |  index(self, value, start=0, stop=9223372036854775807, /)\n",
      " |      Return first index of value.\n",
      " |\n",
      " |      Raises ValueError if the value is not present.\n",
      " |\n",
      " |  insert(self, index, object, /)\n",
      " |      Insert object before index.\n",
      " |\n",
      " |  pop(self, index=-1, /)\n",
      " |      Remove and return item at index (default last).\n",
      " |\n",
      " |      Raises IndexError if list is empty or index is out of range.\n",
      " |\n",
      " |  remove(self, value, /)\n",
      " |      Remove first occurrence of value.\n",
      " |\n",
      " |      Raises ValueError if the value is not present.\n",
      " |\n",
      " |  reverse(self, /)\n",
      " |      Reverse *IN PLACE*.\n",
      " |\n",
      " |  sort(self, /, *, key=None, reverse=False)\n",
      " |      Sort the list in ascending order and return None.\n",
      " |\n",
      " |      The sort is in-place (i.e. the list itself is modified) and stable (i.e. the\n",
      " |      order of two equal elements is maintained).\n",
      " |\n",
      " |      If a key function is given, apply it once to each list item and sort them,\n",
      " |      ascending or descending, according to their function values.\n",
      " |\n",
      " |      The reverse flag can be set to sort in descending order.\n",
      " |\n",
      " |  ----------------------------------------------------------------------\n",
      " |  Class methods defined here:\n",
      " |\n",
      " |  __class_getitem__(...) from builtins.type\n",
      " |      See PEP 585\n",
      " |\n",
      " |  ----------------------------------------------------------------------\n",
      " |  Static methods defined here:\n",
      " |\n",
      " |  __new__(*args, **kwargs) from builtins.type\n",
      " |      Create and return a new object.  See help(type) for accurate signature.\n",
      " |\n",
      " |  ----------------------------------------------------------------------\n",
      " |  Data and other attributes defined here:\n",
      " |\n",
      " |  __hash__ = None\n",
      "\n"
     ]
    }
   ],
   "source": [
    "help(list)"
   ]
  },
  {
   "cell_type": "code",
   "execution_count": 59,
   "metadata": {},
   "outputs": [
    {
     "name": "stdout",
     "output_type": "stream",
     "text": [
      "1497005636032 <class 'list'> True\n",
      "1497005609408 <class 'list'> True\n"
     ]
    }
   ],
   "source": [
    "# Create 2 instance of the list class\n",
    "\n",
    "list_1 = [1, 2, 3, 4]\n",
    "list_2 = [5, 6, 7, 8]\n",
    "\n",
    "print(id(list_1), type(list_1), isinstance(list_1, list))\n",
    "print(id(list_2), type(list_2), isinstance(list_2, list))"
   ]
  },
  {
   "cell_type": "code",
   "execution_count": 60,
   "metadata": {},
   "outputs": [
    {
     "name": "stdout",
     "output_type": "stream",
     "text": [
      "[1, 2, 3, 4, 123]\n",
      "[5, 6, 7, 8]\n"
     ]
    }
   ],
   "source": [
    "list_1.append(123)\n",
    "\n",
    "print(list_1)\n",
    "print(list_2)"
   ]
  },
  {
   "cell_type": "markdown",
   "metadata": {},
   "source": [
    "##### Creating One Instance"
   ]
  },
  {
   "cell_type": "code",
   "execution_count": 61,
   "metadata": {},
   "outputs": [
    {
     "name": "stdout",
     "output_type": "stream",
     "text": [
      "[] <class 'list'>\n"
     ]
    }
   ],
   "source": [
    "list_3 = list()\n",
    "\n",
    "print(list_3, type(list_3))"
   ]
  },
  {
   "cell_type": "code",
   "execution_count": 62,
   "metadata": {},
   "outputs": [
    {
     "name": "stdout",
     "output_type": "stream",
     "text": [
      "<__main__.Student object at 0x0000015C8C2F25D0>\n",
      "<class '__main__.Student'>\n",
      "True\n"
     ]
    }
   ],
   "source": [
    "# Syntax: instance_var_name = ClassName()\n",
    "\n",
    "student1 = Student() # student1 is equal to an instance of Student (1 version of the Student class)\n",
    "\n",
    "print(student1)\n",
    "print(type(student1))\n",
    "print(isinstance(student1, Student))"
   ]
  },
  {
   "cell_type": "markdown",
   "metadata": {},
   "source": [
    "##### Creating Multiple Instances"
   ]
  },
  {
   "cell_type": "code",
   "execution_count": 63,
   "metadata": {},
   "outputs": [
    {
     "name": "stdout",
     "output_type": "stream",
     "text": [
      "<__main__.Student object at 0x0000015C8C2F2000>\n",
      "<__main__.Student object at 0x0000015C8C0C3D70>\n"
     ]
    }
   ],
   "source": [
    "student2 = Student()\n",
    "print(student2)\n",
    "\n",
    "student3 = Student()\n",
    "print(student3)"
   ]
  },
  {
   "cell_type": "markdown",
   "metadata": {},
   "source": [
    "##### Adding attributes to instances"
   ]
  },
  {
   "cell_type": "code",
   "execution_count": 64,
   "metadata": {},
   "outputs": [
    {
     "name": "stdout",
     "output_type": "stream",
     "text": [
      "Student 1: {'first_name': 'Laura', 'last_name': 'Green'}\n",
      "Student 2: {'first_name': 'Luke', 'last_name': 'Smith'}\n"
     ]
    }
   ],
   "source": [
    "# Syntas: instance_var.attribute_name = value\n",
    "\n",
    "student1.first_name = 'Laura'\n",
    "student1.last_name = 'Green'\n",
    "\n",
    "student2.first_name = 'Luke'\n",
    "student2.last_name = 'Smith'\n",
    "\n",
    "print('Student 1:', student1.__dict__)\n",
    "print('Student 2:', student2.__dict__)"
   ]
  },
  {
   "cell_type": "markdown",
   "metadata": {},
   "source": [
    "##### Accessing attributes to instances"
   ]
  },
  {
   "cell_type": "code",
   "execution_count": 65,
   "metadata": {},
   "outputs": [
    {
     "name": "stdout",
     "output_type": "stream",
     "text": [
      "Laura\n",
      "Green\n",
      "Luke\n",
      "Smith\n"
     ]
    }
   ],
   "source": [
    "# Syntax: instance_var.attribute_name\n",
    "\n",
    "print(student1.first_name)\n",
    "print(student1.last_name)\n",
    "\n",
    "print(student2.first_name)\n",
    "print(student2.last_name)"
   ]
  },
  {
   "cell_type": "code",
   "execution_count": 66,
   "metadata": {},
   "outputs": [
    {
     "ename": "AttributeError",
     "evalue": "'Student' object has no attribute 'middle_name'",
     "output_type": "error",
     "traceback": [
      "\u001b[1;31m---------------------------------------------------------------------------\u001b[0m",
      "\u001b[1;31mAttributeError\u001b[0m                            Traceback (most recent call last)",
      "Cell \u001b[1;32mIn[66], line 2\u001b[0m\n\u001b[0;32m      1\u001b[0m \u001b[38;5;66;03m# Will throw AttributeError if the attribute does not exist\u001b[39;00m\n\u001b[1;32m----> 2\u001b[0m \u001b[38;5;28mprint\u001b[39m(\u001b[43mstudent1\u001b[49m\u001b[38;5;241;43m.\u001b[39;49m\u001b[43mmiddle_name\u001b[49m)\n",
      "\u001b[1;31mAttributeError\u001b[0m: 'Student' object has no attribute 'middle_name'"
     ]
    }
   ],
   "source": [
    "# Will throw AttributeError if the attribute does not exist\n",
    "print(student1.middle_name)"
   ]
  },
  {
   "cell_type": "markdown",
   "metadata": {},
   "source": [
    "##### setattr and getattr"
   ]
  },
  {
   "cell_type": "code",
   "execution_count": null,
   "metadata": {},
   "outputs": [
    {
     "name": "stdout",
     "output_type": "stream",
     "text": [
      "Help on built-in function setattr in module builtins:\n",
      "\n",
      "setattr(obj, name, value, /)\n",
      "    Sets the named attribute on the given object to the specified value.\n",
      "\n",
      "    setattr(x, 'y', v) is equivalent to ``x.y = v``\n",
      "\n"
     ]
    }
   ],
   "source": [
    "# setattr and getattr built in functions\n",
    "help(setattr)"
   ]
  },
  {
   "cell_type": "code",
   "execution_count": null,
   "metadata": {},
   "outputs": [
    {
     "name": "stdout",
     "output_type": "stream",
     "text": [
      "{'first_name': 'Laura', 'last_name': 'Green', 'middle_name': 'Elizabeth'}\n",
      "Elizabeth\n"
     ]
    }
   ],
   "source": [
    "setattr(student1, 'middle_name', 'Elizabeth')\n",
    "\n",
    "print(student1.__dict__)\n",
    "\n",
    "print(student1.middle_name)"
   ]
  },
  {
   "cell_type": "code",
   "execution_count": null,
   "metadata": {},
   "outputs": [
    {
     "name": "stdout",
     "output_type": "stream",
     "text": [
      "Help on built-in function getattr in module builtins:\n",
      "\n",
      "getattr(...)\n",
      "    Get a named attribute from an object.\n",
      "\n",
      "    getattr(x, 'y') is equivalent to x.y\n",
      "    When a default argument is given, it is returned when the attribute doesn't\n",
      "    exist; without it, an exception is raised in that case.\n",
      "\n"
     ]
    }
   ],
   "source": [
    "help(getattr)"
   ]
  },
  {
   "cell_type": "code",
   "execution_count": null,
   "metadata": {},
   "outputs": [
    {
     "data": {
      "text/plain": [
       "'Luke'"
      ]
     },
     "execution_count": 23,
     "metadata": {},
     "output_type": "execute_result"
    }
   ],
   "source": [
    "getattr(student2, 'first_name')"
   ]
  },
  {
   "cell_type": "code",
   "execution_count": null,
   "metadata": {},
   "outputs": [
    {
     "name": "stdout",
     "output_type": "stream",
     "text": [
      "{'first_name': 'Brian', 'last_name': 'Stanton'}\n",
      "Brian\n",
      "Stanton\n"
     ]
    }
   ],
   "source": [
    "class Teacher:\n",
    "    pass\n",
    "t = Teacher()\n",
    "\n",
    "t.first_name = 'Brian' # settattr(t, 'first_name', 'Brian')\n",
    "setattr(t, 'last_name', 'Stanton') # t.last_name = 'Stanton'Animal\n",
    "\n",
    "print(t.__dict__)\n",
    "\n",
    "print(getattr(t, 'first_name'))\n",
    "print(t.last_name)"
   ]
  },
  {
   "cell_type": "code",
   "execution_count": null,
   "metadata": {},
   "outputs": [
    {
     "name": "stdout",
     "output_type": "stream",
     "text": [
      "Brian\n"
     ]
    }
   ],
   "source": [
    "while True:\n",
    "    ask = input('What attribute would you like to see? ')\n",
    "    if ask == 'quit':\n",
    "        break\n",
    "    print(getattr(t, ask, 'Not here'))\n",
    "#    print(t.ask) # AttributeError - Python thinks we are trying to access an attribute called 'ask'"
   ]
  },
  {
   "cell_type": "code",
   "execution_count": null,
   "metadata": {},
   "outputs": [
    {
     "name": "stdout",
     "output_type": "stream",
     "text": [
      "Laura\n",
      "Luke\n"
     ]
    }
   ],
   "source": [
    "students = [student1, student2]\n",
    "\n",
    "for s in students:\n",
    "    print(s.first_name)"
   ]
  },
  {
   "cell_type": "markdown",
   "metadata": {},
   "source": [
    "##### In-Class Exercise #1 - Create a Class 'Car' and Instantiate three different car instances. Add a different make for each car."
   ]
  },
  {
   "cell_type": "code",
   "execution_count": null,
   "metadata": {},
   "outputs": [
    {
     "name": "stdout",
     "output_type": "stream",
     "text": [
      "Toyota\n",
      "Honda\n",
      "Ford\n"
     ]
    }
   ],
   "source": [
    "# Create a Car class\n",
    "class Car:\n",
    "    pass\n",
    "\n",
    "# Create 3 instance of the Car class\n",
    "\n",
    "car_t = Car()\n",
    "car_h = Car()\n",
    "car_f = Car()\n",
    "\n",
    "# Set the make attribute for each car\n",
    "\n",
    "setattr(car_t, 'make', 'Toyota')\n",
    "setattr(car_h, 'make', 'Honda')\n",
    "setattr(car_f, 'make', 'Ford')\n",
    "\n",
    "# Create a list of all car instances\n",
    "\n",
    "cars = [car_t, car_h, car_f]\n",
    "\n",
    "# Loop over the list and print each car's make attribute\n",
    "\n",
    "for car in cars:\n",
    "    print(car.make)\n",
    "#   print(getattr(car, 'make'))"
   ]
  },
  {
   "cell_type": "code",
   "execution_count": null,
   "metadata": {},
   "outputs": [
    {
     "name": "stdout",
     "output_type": "stream",
     "text": [
      "Help on class Car in module __main__:\n",
      "\n",
      "class Car(builtins.object)\n",
      " |  Data descriptors defined here:\n",
      " |\n",
      " |  __dict__\n",
      " |      dictionary for instance variables\n",
      " |\n",
      " |  __weakref__\n",
      " |      list of weak references to the object\n",
      "\n"
     ]
    }
   ],
   "source": [
    "help(Car)"
   ]
  },
  {
   "cell_type": "markdown",
   "metadata": {},
   "source": [
    "## The \\__init\\__() Method <br>\n",
    "<p>This method is used in almost every created class, and called only once upon the creation of the class instance. This method will initialize all variables needed for the object.</p>"
   ]
  },
  {
   "cell_type": "code",
   "execution_count": null,
   "metadata": {},
   "outputs": [],
   "source": [
    "class Car:\n",
    "    pass\n",
    "\n",
    "def create_car(make):\n",
    "    car_instance = Car() # Create an instance of Car\n",
    "    car_instance.make = make # Set a 'make' attribute to whatever value is passed int the function as an argument\n",
    "    return car_instance\n"
   ]
  },
  {
   "cell_type": "code",
   "execution_count": null,
   "metadata": {},
   "outputs": [
    {
     "name": "stdout",
     "output_type": "stream",
     "text": [
      "<__main__.Car object at 0x000002476D7C59A0>\n",
      "Ford\n"
     ]
    }
   ],
   "source": [
    "c1 = create_car('Ford')\n",
    "print(c1)\n",
    "print(c1.make)"
   ]
  },
  {
   "cell_type": "code",
   "execution_count": null,
   "metadata": {},
   "outputs": [
    {
     "name": "stdout",
     "output_type": "stream",
     "text": [
      "<__main__.Car object at 0x000002476D7C6D50>\n",
      "BMW\n"
     ]
    }
   ],
   "source": [
    "c2 = create_car('BMW')\n",
    "print(c2)\n",
    "print(c2.make)"
   ]
  },
  {
   "cell_type": "markdown",
   "metadata": {},
   "source": [
    "##### The 'self' Attribute <br>\n",
    "<p>This attribute is required to keep track of specific instance's attributes. Without the self attribute, the program would not know how to reference or keep track of an instance's attributes.</p>"
   ]
  },
  {
   "cell_type": "code",
   "execution_count": null,
   "metadata": {},
   "outputs": [
    {
     "name": "stdout",
     "output_type": "stream",
     "text": [
      "Help on method_descriptor:\n",
      "\n",
      "upper(self, /)\n",
      "    Return a copy of the string converted to uppercase.\n",
      "\n"
     ]
    }
   ],
   "source": [
    "help(str.upper)"
   ]
  },
  {
   "cell_type": "code",
   "execution_count": null,
   "metadata": {},
   "outputs": [
    {
     "name": "stdout",
     "output_type": "stream",
     "text": [
      "BRIAN\n",
      "stanton\n"
     ]
    }
   ],
   "source": [
    "name1 = 'brian'\n",
    "name2 = 'stanton'\n",
    "\n",
    "print(name1.upper())\n",
    "print(name2)"
   ]
  },
  {
   "cell_type": "code",
   "execution_count": null,
   "metadata": {},
   "outputs": [
    {
     "data": {
      "text/plain": [
       "'BRIAN'"
      ]
     },
     "execution_count": 47,
     "metadata": {},
     "output_type": "execute_result"
    }
   ],
   "source": [
    "str.upper(name1)"
   ]
  },
  {
   "cell_type": "code",
   "execution_count": null,
   "metadata": {},
   "outputs": [],
   "source": [
    "class Student:\n",
    "    pass\n",
    "\n",
    "def create_student(self, first, last):\n",
    "    self.first_name = first\n",
    "    self.last_name = last\n",
    "    return self\n",
    "    "
   ]
  },
  {
   "cell_type": "code",
   "execution_count": null,
   "metadata": {},
   "outputs": [
    {
     "name": "stdout",
     "output_type": "stream",
     "text": [
      "<__main__.Student object at 0x000002476D7C5520>\n",
      "Mickey Mouse\n"
     ]
    }
   ],
   "source": [
    "s1 = create_student(Student(), 'Mickey', 'Mouse')\n",
    "print(s1)\n",
    "print(s1.first_name, s1.last_name)"
   ]
  },
  {
   "cell_type": "code",
   "execution_count": null,
   "metadata": {},
   "outputs": [
    {
     "name": "stdout",
     "output_type": "stream",
     "text": [
      "<__main__.Student object at 0x000002476D7A7DD0>\n",
      "Daffy Duck\n"
     ]
    }
   ],
   "source": [
    "s2 = create_student(Student(), 'Daffy', 'Duck')\n",
    "print(s2)\n",
    "print(s2.first_name, s2.last_name)"
   ]
  },
  {
   "cell_type": "code",
   "execution_count": null,
   "metadata": {},
   "outputs": [],
   "source": [
    "class Student:\n",
    "    def __init__(self, first, last):\n",
    "        print('Hello this function is being executed because we are creating a new instance of Student')\n",
    "        print('Self:', self)\n",
    "        self.first_name = first\n",
    "        self.last_name = last\n"
   ]
  },
  {
   "cell_type": "code",
   "execution_count": null,
   "metadata": {},
   "outputs": [
    {
     "name": "stdout",
     "output_type": "stream",
     "text": [
      "Hello this function is being executed because we are creating a new instance of Student\n",
      "Self: <__main__.Student object at 0x000002476D7C0470>\n",
      "s3: <__main__.Student object at 0x000002476D7C0470>\n",
      "Bugs Bunny\n"
     ]
    }
   ],
   "source": [
    "# Syntax for creating a new instance:\n",
    "# instance_var = ClassName(arg1, arg2)  #Do not need to pass in anything for self. Python automatically does that.\n",
    "\n",
    "s3 = Student('Bugs', 'Bunny')\n",
    "\n",
    "print('s3:', s3)\n",
    "print(s3.first_name, s3.last_name)"
   ]
  },
  {
   "cell_type": "code",
   "execution_count": null,
   "metadata": {},
   "outputs": [
    {
     "name": "stdout",
     "output_type": "stream",
     "text": [
      "Hello this function is being executed because we are creating a new instance of Student\n",
      "Self: <__main__.Student object at 0x000002476D7C2270>\n",
      "Joe\n",
      "Cool\n"
     ]
    }
   ],
   "source": [
    "cool_student = Student('Joe', 'Cool')\n",
    "print(cool_student.first_name)\n",
    "print(cool_student.last_name)"
   ]
  },
  {
   "cell_type": "code",
   "execution_count": null,
   "metadata": {},
   "outputs": [
    {
     "name": "stdout",
     "output_type": "stream",
     "text": [
      "{'first_name': 'Brian', 'last_name': 'Stanton', 'email': 'brian.stanton@teacher.edu'}\n"
     ]
    }
   ],
   "source": [
    "class Teacher:\n",
    "    def __init__(self, first, last):\n",
    "        self.first_name = first.title()\n",
    "        self.last_name = last.title()\n",
    "        self.email = first.lower() + '.' + last.lower() + '@teacher.edu'\n",
    "\n",
    "t1 = Teacher('brian', 'stanton')\n",
    "print(t1.__dict__)"
   ]
  },
  {
   "cell_type": "code",
   "execution_count": null,
   "metadata": {},
   "outputs": [
    {
     "name": "stdout",
     "output_type": "stream",
     "text": [
      "{'first_name': 'Travis', 'last_name': 'Peck', 'email': 'travis.peck@teacher.edu'}\n"
     ]
    }
   ],
   "source": [
    "t2 = Teacher('Travis', 'peck')\n",
    "print(t2.__dict__)"
   ]
  },
  {
   "cell_type": "code",
   "execution_count": null,
   "metadata": {},
   "outputs": [
    {
     "name": "stdout",
     "output_type": "stream",
     "text": [
      "Happy Birthday Chicago!\n",
      "Buy Now!\n"
     ]
    }
   ],
   "source": [
    "class Email:\n",
    "    pass\n",
    "\n",
    "email1 = Email()\n",
    "\n",
    "email1.subject = 'Happy Birthday Chicago!'\n",
    "email1.body = 'Today we celebrate the birthday of a world class city!'\n",
    "email1.recipient_list = ['brians@codingtemple.com', 'travisp@codingtemple.com', 'mayor@chicago.gov']\n",
    "\n",
    "print(email1.subject)\n",
    "\n",
    "email2 = Email()\n",
    "\n",
    "email2.subject = 'Buy Now!'\n",
    "email2.body = 'Lowest deals of the year! You will not want to miss these savings!!!!'\n",
    "email2.recipient_list = ['kevinb@codingtemple.com', 'mayor@chicago.gov']\n",
    "\n",
    "print(email2.subject)"
   ]
  },
  {
   "cell_type": "code",
   "execution_count": null,
   "metadata": {},
   "outputs": [
    {
     "name": "stdout",
     "output_type": "stream",
     "text": [
      "<__main__.Email object at 0x000002476D7C2F30>\n",
      "Happy Birthday Chicago!\n",
      "<__main__.Email object at 0x000002476D523A10>\n",
      "Buy Now!\n"
     ]
    }
   ],
   "source": [
    "class Email:\n",
    "    def __init__(self, subject, body, recipient_list):\n",
    "        self.subject = subject\n",
    "        self.body = body\n",
    "        self.recipient_list = recipient_list\n",
    "\n",
    "email1 = Email('Happy Birthday Chicago!', 'Today we celebrate the birthday of a world class city', ['brians@codingtemple.com', 'travisp@codingtemple.com', 'mayor@chicago.gov'])\n",
    "print(email1)\n",
    "print(email1.subject)\n",
    "\n",
    "email2 = Email('Buy Now!', 'Lowest deals of the year! You will not want to miss these savings!!!!', ['kevinb@codingtemple.com', 'mayor@chicago.gov'])\n",
    "print(email2)\n",
    "print(email2.subject)"
   ]
  },
  {
   "cell_type": "markdown",
   "metadata": {},
   "source": [
    "## Class Attributes <br>\n",
    "<p>While variables are inside of a class, they are referred to as attributes and not variables. When someone says 'attribute' you know they're speaking about a class. Attributes can be initialized through the init method, or outside of it.</p>"
   ]
  },
  {
   "cell_type": "markdown",
   "metadata": {},
   "source": [
    "##### Initializing Attributes"
   ]
  },
  {
   "cell_type": "code",
   "execution_count": null,
   "metadata": {},
   "outputs": [],
   "source": [
    "class Truck:\n",
    "    wheels = 4  # Class Attribute\n",
    "\n",
    "    def __init__(self, color, make):\n",
    "        self.color = color # Instance Attributes\n",
    "        self.make = make  # Instance Attributes\n",
    "\n",
    "truck1 = Truck('blue', 'Ford')\n",
    "truck2 = Truck('red', 'Chevy')"
   ]
  },
  {
   "cell_type": "code",
   "execution_count": null,
   "metadata": {},
   "outputs": [
    {
     "name": "stdout",
     "output_type": "stream",
     "text": [
      "{'color': 'blue', 'make': 'Ford'}\n",
      "{'color': 'red', 'make': 'Chevy'}\n"
     ]
    }
   ],
   "source": [
    "print(truck1.__dict__)\n",
    "print(truck2.__dict__)"
   ]
  },
  {
   "cell_type": "code",
   "execution_count": null,
   "metadata": {},
   "outputs": [
    {
     "name": "stdout",
     "output_type": "stream",
     "text": [
      "blue\n",
      "Ford\n",
      "4\n"
     ]
    }
   ],
   "source": [
    "print(truck1.color)\n",
    "print(truck1.make)\n",
    "print(truck1.wheels)"
   ]
  },
  {
   "cell_type": "code",
   "execution_count": null,
   "metadata": {},
   "outputs": [
    {
     "name": "stdout",
     "output_type": "stream",
     "text": [
      "red\n",
      "Chevy\n",
      "4\n"
     ]
    }
   ],
   "source": [
    "print(truck2.color)\n",
    "print(truck2.make)\n",
    "print(truck2.wheels)"
   ]
  },
  {
   "cell_type": "code",
   "execution_count": null,
   "metadata": {},
   "outputs": [
    {
     "name": "stdout",
     "output_type": "stream",
     "text": [
      "{'__module__': '__main__', 'wheels': 4, '__init__': <function Truck.__init__ at 0x000002476DC1DEE0>, '__dict__': <attribute '__dict__' of 'Truck' objects>, '__weakref__': <attribute '__weakref__' of 'Truck' objects>, '__doc__': None}\n"
     ]
    }
   ],
   "source": [
    "print(Truck.__dict__)"
   ]
  },
  {
   "cell_type": "markdown",
   "metadata": {},
   "source": [
    "##### Accessing Class Attributes"
   ]
  },
  {
   "cell_type": "code",
   "execution_count": null,
   "metadata": {
    "scrolled": true
   },
   "outputs": [],
   "source": [
    "# You can access instance and class attributes from an instance of the class\n",
    "\n",
    "print(truck2.color) # Accessing an instance attribute # OK\n",
    "print(truck2.make)  # Accessing an instance attribute # OK\n",
    "print(truck2.wheels)  # Accessing a class attribute # OK"
   ]
  },
  {
   "cell_type": "code",
   "execution_count": null,
   "metadata": {},
   "outputs": [
    {
     "name": "stdout",
     "output_type": "stream",
     "text": [
      "4\n"
     ]
    },
    {
     "ename": "AttributeError",
     "evalue": "type object 'Truck' has no attribute 'color'",
     "output_type": "error",
     "traceback": [
      "\u001b[1;31m---------------------------------------------------------------------------\u001b[0m",
      "\u001b[1;31mAttributeError\u001b[0m                            Traceback (most recent call last)",
      "Cell \u001b[1;32mIn[100], line 4\u001b[0m\n\u001b[0;32m      1\u001b[0m \u001b[38;5;66;03m# but the class can only access class attributes (not instance)\u001b[39;00m\n\u001b[0;32m      3\u001b[0m \u001b[38;5;28mprint\u001b[39m(Truck\u001b[38;5;241m.\u001b[39mwheels) \u001b[38;5;66;03m# Accessing class attribute @ OK\u001b[39;00m\n\u001b[1;32m----> 4\u001b[0m \u001b[38;5;28mprint\u001b[39m(\u001b[43mTruck\u001b[49m\u001b[38;5;241;43m.\u001b[39;49m\u001b[43mcolor\u001b[49m) \u001b[38;5;66;03m#\u001b[39;00m\n\u001b[0;32m      5\u001b[0m \u001b[38;5;28mprint\u001b[39m(Truck\u001b[38;5;241m.\u001b[39mmake)\n",
      "\u001b[1;31mAttributeError\u001b[0m: type object 'Truck' has no attribute 'color'"
     ]
    }
   ],
   "source": [
    "# but the class can only access class attributes (not instance)\n",
    "\n",
    "print(Truck.wheels) # Accessing class attribute # OK\n",
    "# print(Truck.color) # Accessing instance attribute # NOT OK (AttributeError)\n",
    "# print(Truck.make) # Accessing instance attribute # NOT OK (AttributeError)"
   ]
  },
  {
   "cell_type": "markdown",
   "metadata": {},
   "source": [
    "##### Changing Class Attributes <br>\n",
    "<p>Keep in mind there are global class attributes and then there are attributes only available to each class instance which won't effect other classes.</p>"
   ]
  },
  {
   "cell_type": "code",
   "execution_count": null,
   "metadata": {},
   "outputs": [],
   "source": [
    "class Truck:\n",
    "    wheels = 4 # Class Attribute\n",
    "\n",
    "    def __init__(self,color,make):\n",
    "        self.color = color\n",
    "        self.make = make\n",
    "\n",
    "truck1 = Truck('blue', 'Ford')\n",
    "truck2 = Truck('red', 'Chevy')"
   ]
  },
  {
   "cell_type": "code",
   "execution_count": null,
   "metadata": {},
   "outputs": [
    {
     "name": "stdout",
     "output_type": "stream",
     "text": [
      "4\n",
      "4\n",
      "==================================================\n",
      "{'color': 'blue', 'make': 'Ford'}\n",
      "{'color': 'red', 'make': 'Chevy'}\n",
      "==================================================\n",
      "{'__module__': '__main__', 'wheels': 4, '__init__': <function Truck.__init__ at 0x000002476DD62DE0>, '__dict__': <attribute '__dict__' of 'Truck' objects>, '__weakref__': <attribute '__weakref__' of 'Truck' objects>, '__doc__': None}\n"
     ]
    }
   ],
   "source": [
    "print(truck1.wheels)\n",
    "print(truck2.wheels)\n",
    "print('='*50)\n",
    "print(truck1.__dict__)\n",
    "print(truck2.__dict__)\n",
    "print('='*50)\n",
    "print(Truck.__dict__)"
   ]
  },
  {
   "cell_type": "code",
   "execution_count": null,
   "metadata": {},
   "outputs": [
    {
     "name": "stdout",
     "output_type": "stream",
     "text": [
      "16\n",
      "4\n",
      "==================================================\n",
      "{'color': 'blue', 'make': 'Ford', 'wheels': 16}\n",
      "{'color': 'red', 'make': 'Chevy'}\n",
      "==================================================\n",
      "{'__module__': '__main__', 'wheels': 4, '__init__': <function Truck.__init__ at 0x000002476DD62DE0>, '__dict__': <attribute '__dict__' of 'Truck' objects>, '__weakref__': <attribute '__weakref__' of 'Truck' objects>, '__doc__': None}\n"
     ]
    }
   ],
   "source": [
    "truck1.wheels = 16 # Set an instance attribute on truck1 (an instance of Truck)\n",
    "\n",
    "print(truck1.wheels)\n",
    "print(truck2.wheels)\n",
    "print('='*50)\n",
    "print(truck1.__dict__)\n",
    "print(truck2.__dict__)\n",
    "print('='*50)\n",
    "print(Truck.__dict__)"
   ]
  },
  {
   "cell_type": "code",
   "execution_count": null,
   "metadata": {},
   "outputs": [
    {
     "name": "stdout",
     "output_type": "stream",
     "text": [
      "16\n",
      "24\n",
      "==================================================\n",
      "{'color': 'blue', 'make': 'Ford', 'wheels': 16}\n",
      "{'color': 'red', 'make': 'Chevy'}\n",
      "==================================================\n",
      "{'__module__': '__main__', 'wheels': 24, '__init__': <function Truck.__init__ at 0x000002476DD62DE0>, '__dict__': <attribute '__dict__' of 'Truck' objects>, '__weakref__': <attribute '__weakref__' of 'Truck' objects>, '__doc__': None}\n"
     ]
    }
   ],
   "source": [
    "Truck.wheels = 24 # Sets a class attribute on the Truck class\n",
    "\n",
    "print(truck1.wheels)\n",
    "print(truck2.wheels)\n",
    "print('='*50)\n",
    "print(truck1.__dict__)\n",
    "print(truck2.__dict__)\n",
    "print('='*50)\n",
    "print(Truck.__dict__)"
   ]
  },
  {
   "cell_type": "code",
   "execution_count": null,
   "metadata": {},
   "outputs": [
    {
     "name": "stdout",
     "output_type": "stream",
     "text": [
      "I drive a pink Ford F-150\n"
     ]
    }
   ],
   "source": [
    "class Truck:\n",
    "    make = 'Ford'\n",
    "    def __init__(self, color, model):\n",
    "        self.color = color\n",
    "        self.model = model\n",
    "my_truck = Truck('pink', 'F-150')\n",
    "print(f'I drive a {my_truck.color} {my_truck.make} {my_truck.model}')"
   ]
  },
  {
   "cell_type": "code",
   "execution_count": 67,
   "metadata": {},
   "outputs": [],
   "source": [
    "class Animal:\n",
    "    all_animals = []\n",
    "    id_counter = 1\n",
    "\n",
    "    def __init__(self, name, species):\n",
    "        self.name = name.title()\n",
    "        self.species = species.title()\n",
    "        self.id = Animal.id_counter\n",
    "        Animal.id_counter += 1\n",
    "        Animal.all_animals.append(self)\n",
    "\n",
    "a1 = Animal('Leo', 'Lion')\n",
    "a2 = Animal( 'Pete', 'Penguin')\n",
    "a3 = Animal('Geoff', 'Giraffe')"
   ]
  },
  {
   "cell_type": "code",
   "execution_count": 68,
   "metadata": {},
   "outputs": [
    {
     "data": {
      "text/plain": [
       "[<__main__.Animal at 0x15c8c2ddb20>,\n",
       " <__main__.Animal at 0x15c8c2de240>,\n",
       " <__main__.Animal at 0x15c8c2dcbf0>]"
      ]
     },
     "execution_count": 68,
     "metadata": {},
     "output_type": "execute_result"
    }
   ],
   "source": [
    "Animal.all_animals"
   ]
  },
  {
   "cell_type": "code",
   "execution_count": 69,
   "metadata": {},
   "outputs": [
    {
     "name": "stdout",
     "output_type": "stream",
     "text": [
      "1 Leo the Lion\n",
      "2 Pete the Penguin\n",
      "3 Geoff the Giraffe\n"
     ]
    }
   ],
   "source": [
    "for animal in Animal.all_animals:\n",
    "    print(animal.id, f\"{animal.name} the {animal.species}\")"
   ]
  },
  {
   "cell_type": "markdown",
   "metadata": {},
   "source": [
    "##### Setting Defaults for Attributes"
   ]
  },
  {
   "cell_type": "code",
   "execution_count": 70,
   "metadata": {},
   "outputs": [
    {
     "name": "stdout",
     "output_type": "stream",
     "text": [
      "red Schwinn\n",
      "blue Huffy\n"
     ]
    }
   ],
   "source": [
    "class Bike:\n",
    "    def __init__(self, color, brand='Schwinn'):\n",
    "        self.color = color\n",
    "        self.brand = brand\n",
    "\n",
    "my_bike = Bike('red')\n",
    "print(my_bike.color, my_bike.brand)\n",
    "\n",
    "your_bike = Bike('blue', 'Huffy')\n",
    "print(your_bike.color, your_bike.brand)"
   ]
  },
  {
   "cell_type": "markdown",
   "metadata": {},
   "source": [
    "##### In-Class Exercise 2 - Create an \\__init__ method for your Car class which takes in color and model with a default value for gas_level of 100. Your class should also have a class attribute for model. Once you have created the class, instantiate 3 different cars"
   ]
  },
  {
   "cell_type": "code",
   "execution_count": 76,
   "metadata": {},
   "outputs": [
    {
     "name": "stdout",
     "output_type": "stream",
     "text": [
      "silver Jose Corolla 100\n",
      "white Jose Rav4 100\n",
      "red Jose Prius 100\n"
     ]
    }
   ],
   "source": [
    "class Car:\n",
    "    make = 'Toyota'\n",
    "\n",
    "    def __init__(self, color, model, gas_level = 100):\n",
    "\n",
    "        self.color = color\n",
    "        self.gas_level = gas_level\n",
    "        self.model = model\n",
    "\n",
    "car1 = Car('silver', 'Corolla')\n",
    "car2 = Car('white', 'Rav4')\n",
    "car3 = Car('red', 'Prius')\n",
    "\n",
    "cars = [car1, car2, car3]\n",
    "\n",
    "# Toyota was bought by Jose Cars\n",
    "Car.make = 'Jose'\n",
    "\n",
    "for c in cars:\n",
    "    print(c.color, c.make, c.model, c.gas_level)\n"
   ]
  },
  {
   "cell_type": "markdown",
   "metadata": {},
   "source": [
    "## Class Methods <br>\n",
    "<p>While inside of a class, functions are referred to as 'methods'. If you hear someone mention methods, they're speaking about classes. Methods are essentially functions, but only callable on the instances of a class.</p>"
   ]
  },
  {
   "cell_type": "code",
   "execution_count": 77,
   "metadata": {},
   "outputs": [
    {
     "name": "stdout",
     "output_type": "stream",
     "text": [
      "Help on method_descriptor:\n",
      "\n",
      "append(self, object, /)\n",
      "    Append object to the end of the list.\n",
      "\n"
     ]
    }
   ],
   "source": [
    "help(list.append)\n"
   ]
  },
  {
   "cell_type": "code",
   "execution_count": 78,
   "metadata": {},
   "outputs": [
    {
     "name": "stdout",
     "output_type": "stream",
     "text": [
      "[1, 2, 3, 4]\n"
     ]
    }
   ],
   "source": [
    "list_123 = [1, 2, 3]\n",
    "list_123.append(4)\n",
    "print(list_123)"
   ]
  },
  {
   "cell_type": "code",
   "execution_count": 79,
   "metadata": {},
   "outputs": [
    {
     "ename": "NameError",
     "evalue": "name 'append' is not defined",
     "output_type": "error",
     "traceback": [
      "\u001b[1;31m---------------------------------------------------------------------------\u001b[0m",
      "\u001b[1;31mNameError\u001b[0m                                 Traceback (most recent call last)",
      "Cell \u001b[1;32mIn[79], line 1\u001b[0m\n\u001b[1;32m----> 1\u001b[0m \u001b[43mappend\u001b[49m(\u001b[38;5;241m5\u001b[39m)\n",
      "\u001b[1;31mNameError\u001b[0m: name 'append' is not defined"
     ]
    }
   ],
   "source": [
    "append(5)"
   ]
  },
  {
   "cell_type": "code",
   "execution_count": 80,
   "metadata": {},
   "outputs": [
    {
     "name": "stdout",
     "output_type": "stream",
     "text": [
      "[1, 2, 3, 4, 5]\n"
     ]
    }
   ],
   "source": [
    "# Calling a method using dot notation from the instance is equivalent to calling the method directly from the class and passing the instance as the first argument\n",
    "\n",
    "list.append(list_123, 5)\n",
    "print(list_123) "
   ]
  },
  {
   "cell_type": "markdown",
   "metadata": {},
   "source": [
    "##### Creating"
   ]
  },
  {
   "cell_type": "code",
   "execution_count": 94,
   "metadata": {},
   "outputs": [],
   "source": [
    "# Syntax:\n",
    "# class ClassName():\n",
    "#   def method_name(self, param1, param2, etc):         #self will ALWAYS be the first parameter\n",
    "#       <Code to execute when method is called>\n",
    "\n",
    "class Employee:\n",
    "    raise_amount = 1.10 # Class Attribue - 10% raise\n",
    "\n",
    "    def __init__(self, first, last, salary):\n",
    "        self.first_name = first.title()\n",
    "        self.last_name = last.title()\n",
    "        self.salary = salary\n",
    "        self.email = first.lower() + last[0].lower() + '@company.org'\n",
    "\n",
    "    def create_pay_stub(self):\n",
    "        amount = round(self.salary / 24, 2)\n",
    "        print(f'''\n",
    "        Pay to the Order of: {self.first_name} {self.last_name}\n",
    "        Amount: ${amount}''')\n",
    "\n",
    "    def change_last_name(self, new_last_name):\n",
    "    # Modify the last_name attribute on the employee instance\n",
    "        self.last_name = new_last_name.title()\n",
    "    # Modify the email with updated last name\n",
    "        self.email = self.first_name.lower() + new_last_name[0].lower() + '@company.org'\n",
    "\n",
    "    def apply_raise(self):\n",
    "        self.salary = round(self.salary * Employee.raise_amount)\n",
    "        print(f\"Congrats {self.first_name}, you received a raise and your new salary is ${self.salary}\")\n",
    "\n",
    "emp1 = Employee('George', 'Washington', 100000)\n",
    "emp2 = Employee('Abraham', 'Lincoln', 200000)\n"
   ]
  },
  {
   "cell_type": "code",
   "execution_count": 83,
   "metadata": {},
   "outputs": [
    {
     "name": "stdout",
     "output_type": "stream",
     "text": [
      "\n",
      "          Pay to the Order of: George Washington\n",
      "          Amount: $4166.67\n"
     ]
    }
   ],
   "source": [
    "# Function outside of the class\n",
    "\n",
    "def create_pay_stub(employee_instance):\n",
    "    amount = round(employee_instance.salary / 24, 2)\n",
    "    print(f'''\n",
    "    Pay to the Order of: {employee_instance.first_name} {employee_instance.last_name}\n",
    "    Amount: ${amount}''')\n",
    "\n",
    "create_pay_stub(emp1)"
   ]
  },
  {
   "cell_type": "code",
   "execution_count": 84,
   "metadata": {},
   "outputs": [
    {
     "name": "stdout",
     "output_type": "stream",
     "text": [
      "\n",
      "          Pay to the Order of: Abraham Lincoln\n",
      "          Amount: $8333.33\n"
     ]
    }
   ],
   "source": [
    "create_pay_stub(emp2)"
   ]
  },
  {
   "cell_type": "markdown",
   "metadata": {},
   "source": [
    "##### Calling"
   ]
  },
  {
   "cell_type": "code",
   "execution_count": 89,
   "metadata": {},
   "outputs": [
    {
     "name": "stdout",
     "output_type": "stream",
     "text": [
      "\n",
      "        Pay to the Order of: George Washington\n",
      "        Amount: $4166.67\n",
      "\n",
      "        Pay to the Order of: Abraham Lincoln\n",
      "        Amount: $8333.33\n"
     ]
    }
   ],
   "source": [
    "# Syntax instance_var.method_name() OR instance_var.method_name(arg1, arg2, etc)\n",
    "\n",
    "emp1.create_pay_stub()\n",
    "emp2.create_pay_stub()"
   ]
  },
  {
   "cell_type": "markdown",
   "metadata": {},
   "source": [
    "##### Modifying an Attribute's Value Through a Method"
   ]
  },
  {
   "cell_type": "code",
   "execution_count": 91,
   "metadata": {},
   "outputs": [
    {
     "name": "stdout",
     "output_type": "stream",
     "text": [
      "Before: George Washington georgew@company.org\n",
      "After George Bush georgeb@company.org\n"
     ]
    }
   ],
   "source": [
    "# Function outside of the class\n",
    "\n",
    "def change_last_name(employee, new_last_name):\n",
    "    # Modify the last_name attribute on the employee instance\n",
    "    employee.last_name = new_last_name.title()\n",
    "    # Modify the email with updated last name\n",
    "    employee.email = employee.first_name.lower() + new_last_name[0].lower() + '@company.org'\n",
    "\n",
    "print('Before:', emp1.first_name, emp1.last_name, emp1.email)\n",
    "\n",
    "change_last_name(emp1, 'Bush')\n",
    "\n",
    "print('After', emp1.first_name, emp1.last_name, emp1.email)\n"
   ]
  },
  {
   "cell_type": "code",
   "execution_count": 93,
   "metadata": {},
   "outputs": [
    {
     "name": "stdout",
     "output_type": "stream",
     "text": [
      "Before: Abraham Lincoln abrahaml@company.org\n",
      "After Abraham Todd abrahamt@company.org\n"
     ]
    }
   ],
   "source": [
    "print('Before:', emp2.first_name, emp2.last_name, emp2.email)\n",
    "\n",
    "emp2.change_last_name('Todd')\n",
    "\n",
    "print('After', emp2.first_name, emp2.last_name, emp2.email)"
   ]
  },
  {
   "cell_type": "markdown",
   "metadata": {},
   "source": [
    "##### Incrementing an Attribute's Value Through a Method"
   ]
  },
  {
   "cell_type": "code",
   "execution_count": 95,
   "metadata": {},
   "outputs": [
    {
     "name": "stdout",
     "output_type": "stream",
     "text": [
      "Congrats George, you received a raise and your new salary is $110000\n"
     ]
    }
   ],
   "source": [
    "emp1.apply_raise()\n"
   ]
  },
  {
   "cell_type": "code",
   "execution_count": 96,
   "metadata": {},
   "outputs": [
    {
     "name": "stdout",
     "output_type": "stream",
     "text": [
      "Congrats George, you received a raise and your new salary is $121000\n"
     ]
    }
   ],
   "source": [
    "emp1.apply_raise()"
   ]
  },
  {
   "cell_type": "code",
   "execution_count": 97,
   "metadata": {},
   "outputs": [
    {
     "name": "stdout",
     "output_type": "stream",
     "text": [
      "Congrats George, you received a raise and your new salary is $133100\n"
     ]
    }
   ],
   "source": [
    "emp1.apply_raise()"
   ]
  },
  {
   "cell_type": "markdown",
   "metadata": {},
   "source": [
    "##### In-Class Exercise #3 - Add two methods to your car class. One method called `drive` that will take in the number of miles and decrease that car's `gas_level` by 1 unit for every 5 miles. Another method called `fill_up` will take in gallons and increase the `gas_level` by 10 units for every gallon."
   ]
  },
  {
   "cell_type": "code",
   "execution_count": 102,
   "metadata": {},
   "outputs": [],
   "source": [
    "class Car:\n",
    "    make = 'Toyota'\n",
    "\n",
    "    def __init__(self, color, model, gas_level = 100):\n",
    "        self.color = color\n",
    "        self.gas_level = gas_level\n",
    "        self.model = model\n",
    "\n",
    "    #one method called drive\n",
    "    def drive(self, distance):\n",
    "        self.gas_level = self.gas_level - (distance / 5)\n",
    "        print(f'after driving {distance} miles, your current gas level is {self.gas_level}')\n",
    "    \n",
    "\n",
    "    #one method called fill_up\n",
    "    def fill_up(self, gallons):\n",
    "        self.gas_level = self.gas_level + (gallons * 10)\n",
    "        print(f'After filling up your car with {gallons} gallons of gas, your current gas level is {self.gas_level}')\n",
    "\n",
    "# Create 3 instance of the Car class\n",
    "car1 = Car('silver', 'Corolla')\n",
    "car2 = Car('white', 'Rav4')\n",
    "car3 = Car('red', 'Prius')\n",
    "\n"
   ]
  },
  {
   "cell_type": "code",
   "execution_count": 103,
   "metadata": {},
   "outputs": [
    {
     "name": "stdout",
     "output_type": "stream",
     "text": [
      "after driving 100 miles, your current gas level is 80.0\n",
      "After filling up your car with 2 gallons of gas, your current gas level is 100.0\n"
     ]
    }
   ],
   "source": [
    "car1.drive(100)\n",
    "car1.fill_up(2)"
   ]
  },
  {
   "cell_type": "code",
   "execution_count": 109,
   "metadata": {},
   "outputs": [
    {
     "name": "stdout",
     "output_type": "stream",
     "text": [
      "Car 1 - Color: Red, Model: Camry, Gas Level: 100\n",
      "Car 2 - Color: Blue, Model: Corolla, Gas Level: 80\n",
      "Car 3 - Color: Black, Model: RAV4, Gas Level: 100\n",
      "80\n",
      "100\n"
     ]
    }
   ],
   "source": [
    "# What Ani had.\n",
    "\n",
    "class Car:\n",
    "    make = \"Toyota\"\n",
    "    def __init__(self, color, model, gas_level=100):\n",
    "        self.color = color\n",
    "        self.model = model\n",
    "        self.gas_level = gas_level\n",
    "\n",
    "    def drive(self, miles):\n",
    "        gas_used = miles // 5 \n",
    "        self.gas_level -= gas_used \n",
    "\n",
    "    def fill_up(self, gallons):\n",
    "        gas_added = gallons * 10  \n",
    "        self.gas_level += gas_added\n",
    "\n",
    "car1 = Car(\"Red\", \"Camry\")\n",
    "car2 = Car(\"Blue\", \"Corolla\", 80)\n",
    "car3 = Car(\"Black\", \"RAV4\")\n",
    "\n",
    "print(f\"Car 1 - Color: {car1.color}, Model: {car1.model}, Gas Level: {car1.gas_level}\")\n",
    "print(f\"Car 2 - Color: {car2.color}, Model: {car2.model}, Gas Level: {car2.gas_level}\")\n",
    "print(f\"Car 3 - Color: {car3.color}, Model: {car3.model}, Gas Level: {car3.gas_level}\")\n",
    "\n",
    "car1.drive(100)\n",
    "print(car1.gas_level)\n",
    "\n",
    "car1.fill_up(2)\n",
    "print(car1.gas_level)"
   ]
  },
  {
   "cell_type": "code",
   "execution_count": null,
   "metadata": {},
   "outputs": [],
   "source": []
  },
  {
   "cell_type": "markdown",
   "metadata": {},
   "source": [
    "## Classes as Attributes <br>\n",
    "<p>Classes can also be used as attributes within another class. This is useful in situations where you need to keep variables locally stored, instead of globally stored.</p>"
   ]
  },
  {
   "cell_type": "code",
   "execution_count": 122,
   "metadata": {},
   "outputs": [],
   "source": [
    "class Album:\n",
    "    def __init__(self, title, artist, release_year):\n",
    "        self.title = title\n",
    "        self.artist = artist\n",
    "        self.release_year = release_year\n",
    "        self.track_list = []\n",
    "        \n",
    "    def add_song(self, song):\n",
    "        self.track_list.append(song)\n",
    "        print(f\"{song.name} has been added to the album at position #{len(self.track_list)}\")\n",
    "\n",
    "    def play_album(self):\n",
    "        for song in self.track_list:\n",
    "            song.play()\n",
    "\n",
    "class Song:\n",
    "    def __init__(self, name, length):\n",
    "        self.name = name\n",
    "        self.length = length\n",
    "\n",
    "    def play(self):\n",
    "        print(f\"{self.name} is playing for the next {self.length}\")"
   ]
  },
  {
   "cell_type": "code",
   "execution_count": 126,
   "metadata": {},
   "outputs": [
    {
     "name": "stdout",
     "output_type": "stream",
     "text": [
      "Abbey Road\n",
      "The Beatles\n",
      "1969\n",
      "[]\n"
     ]
    }
   ],
   "source": [
    "# Create an instance of Album\n",
    "\n",
    "abbey_road = Album('Abbey Road', 'The Beatles', 1969)\n",
    "print(abbey_road.title)\n",
    "print(abbey_road.artist)\n",
    "print(abbey_road.release_year)\n",
    "print(abbey_road.track_list)"
   ]
  },
  {
   "cell_type": "code",
   "execution_count": 124,
   "metadata": {},
   "outputs": [],
   "source": [
    "# Create 3 song instances\n",
    "song1 = Song(\"Come Together\", \"4:19\")\n",
    "song2 = Song(\"Something\", \"3.02\")\n",
    "song3 = Song(\"Maxwell's Silver Hammer\", \"3:27\")"
   ]
  },
  {
   "cell_type": "code",
   "execution_count": 125,
   "metadata": {},
   "outputs": [
    {
     "name": "stdout",
     "output_type": "stream",
     "text": [
      "Come Together has been added to the album at position #1\n",
      "Something has been added to the album at position #2\n",
      "Maxwell's Silver Hammer has been added to the album at position #3\n",
      "Come Together is playing for the next 4:19\n",
      "Something is playing for the next 3.02\n",
      "Maxwell's Silver Hammer is playing for the next 3:27\n"
     ]
    }
   ],
   "source": [
    "abbey_road.add_song(song1)\n",
    "abbey_road.add_song(song2)\n",
    "abbey_road.add_song(song3)\n",
    "abbey_road.play_album()"
   ]
  },
  {
   "cell_type": "code",
   "execution_count": 127,
   "metadata": {},
   "outputs": [],
   "source": [
    "class User:\n",
    "    def __init__(self, username, email):\n",
    "        self.username = username\n",
    "        self.email = email\n",
    "\n",
    "class Post:\n",
    "    def __init__ (self, title, body, author):\n",
    "        self.title = title\n",
    "        self.body = body\n",
    "        self.author = author\n",
    "\n",
    "    def display_post(self):\n",
    "        print(f\"\"\"\n",
    "        {self.title} by {self.author.username}\n",
    "        {self.body}\n",
    "        Email the author at {self.author.email}\n",
    "        \"\"\")"
   ]
  },
  {
   "cell_type": "code",
   "execution_count": 128,
   "metadata": {},
   "outputs": [],
   "source": [
    "u1 = User('brians', 'brians@codingtemple.com')\n",
    "u2 = User('jumpman23', 'mj@bulls.com')"
   ]
  },
  {
   "cell_type": "code",
   "execution_count": 129,
   "metadata": {},
   "outputs": [],
   "source": [
    "p1 = Post('First Post', 'This is my very first post, I hope you like it', u1)\n",
    "p2 = Post('GOAT', 'I am the best basketball player of all time', u2)"
   ]
  },
  {
   "cell_type": "code",
   "execution_count": 130,
   "metadata": {},
   "outputs": [
    {
     "name": "stdout",
     "output_type": "stream",
     "text": [
      "\n",
      "        First Post by brians\n",
      "        This is my very first post, I hope you like it\n",
      "        Email the author at brians@codingtemple.com\n",
      "        \n"
     ]
    }
   ],
   "source": [
    "p1.display_post()"
   ]
  },
  {
   "cell_type": "code",
   "execution_count": 131,
   "metadata": {},
   "outputs": [
    {
     "data": {
      "text/plain": [
       "'brians'"
      ]
     },
     "execution_count": 131,
     "metadata": {},
     "output_type": "execute_result"
    }
   ],
   "source": [
    "p1.author.username"
   ]
  },
  {
   "cell_type": "markdown",
   "metadata": {},
   "source": [
    "# Exercises"
   ]
  },
  {
   "cell_type": "markdown",
   "metadata": {},
   "source": [
    "### Exercise 1 - Turn the shopping cart program into an object-oriented program"
   ]
  },
  {
   "cell_type": "code",
   "execution_count": 72,
   "metadata": {},
   "outputs": [],
   "source": [
    "# Create a class called cart that retains items and has methods to add, remove, and show\n",
    "\n",
    "class Cart():\n",
    "    pass\n",
    "    "
   ]
  },
  {
   "cell_type": "markdown",
   "metadata": {},
   "source": [
    "### Exercise 2 - Write a Python class for an Animal that has a name and energy attributes. The animal class should also have methods for eat, sleep, and play that will take in an integer and increase/decrease the energy of the animal with a formatted print statement"
   ]
  },
  {
   "cell_type": "code",
   "execution_count": 73,
   "metadata": {},
   "outputs": [],
   "source": [
    "# Example 1\n",
    "# buddy = Animal('Buddy', 10)\n",
    "# buddy.play(5) -> \"Buddy is playing for 5 minutes. His energy is now 5\"\n",
    "# buddy.sleep(10) -> \"Buddy is sleeping for 5 minutes. His energy is now 15\""
   ]
  },
  {
   "cell_type": "code",
   "execution_count": 2,
   "metadata": {},
   "outputs": [
    {
     "name": "stdout",
     "output_type": "stream",
     "text": [
      "Buddy is playing for 5 minutes. Their energy is now 5\n",
      "Buddy is sleeping for 10 minutes. Their energy is now 15\n",
      "Buddy had 5 bites to eat. Their energy is now 20\n"
     ]
    }
   ],
   "source": [
    "class Animal:\n",
    "    def __init__(self, name, energy):\n",
    "        self.name = name\n",
    "        self.energy = energy\n",
    "    \n",
    "    def play(self, minutes):\n",
    "        self.energy = self.energy - minutes\n",
    "        print(f'{self.name} is playing for {minutes} minutes. Their energy is now {self.energy}')\n",
    "\n",
    "    def sleep(self, minutes):\n",
    "        self.energy = self.energy + minutes\n",
    "        print(f'{self.name} is sleeping for {minutes} minutes. Their energy is now {self.energy}')\n",
    "\n",
    "    def eat(self, bites):\n",
    "        self.energy = self.energy + bites\n",
    "        print(f'{self.name} had {bites} bites to eat. Their energy is now {self.energy}')\n",
    "\n",
    "buddy = Animal('Buddy', 10)\n",
    "buddy.play(5)\n",
    "buddy.sleep(10)\n",
    "buddy.eat(5)\n"
   ]
  },
  {
   "cell_type": "code",
   "execution_count": null,
   "metadata": {},
   "outputs": [],
   "source": []
  }
 ],
 "metadata": {
  "kernelspec": {
   "display_name": "Python 3",
   "language": "python",
   "name": "python3"
  },
  "language_info": {
   "codemirror_mode": {
    "name": "ipython",
    "version": 3
   },
   "file_extension": ".py",
   "mimetype": "text/x-python",
   "name": "python",
   "nbconvert_exporter": "python",
   "pygments_lexer": "ipython3",
   "version": "3.12.1"
  }
 },
 "nbformat": 4,
 "nbformat_minor": 2
}
